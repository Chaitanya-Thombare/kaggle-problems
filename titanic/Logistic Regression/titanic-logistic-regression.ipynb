{
 "cells": [
  {
   "cell_type": "code",
   "execution_count": 3,
   "metadata": {},
   "outputs": [],
   "source": [
    "import pandas as pd\n",
    "import numpy as np"
   ]
  },
  {
   "cell_type": "code",
   "execution_count": 4,
   "metadata": {},
   "outputs": [],
   "source": [
    "from backprop import *\n",
    "from cost_functions import *\n",
    "from evaluation_metrics import *\n",
    "from utils import *"
   ]
  },
  {
   "cell_type": "code",
   "execution_count": 5,
   "metadata": {},
   "outputs": [],
   "source": [
    "def prepare_df(data):\n",
    "\n",
    "    remove_cols = ['Name', 'Ticket', 'Cabin']\n",
    "    data = data.drop(remove_cols, axis=1)\n",
    "    \n",
    "    for col in ['Sex', 'Embarked']:\n",
    "        data = data.join(pd.get_dummies(data[col], prefix=col))\n",
    "        del data[col]\n",
    "    \n",
    "    data = data.dropna(axis=0)\n",
    "        \n",
    "    uncols = ['Age', 'Pclass', 'SibSp', 'Fare', 'Parch',]\n",
    "    data[uncols] = (data[uncols] - data[uncols].mean() )/ data[uncols].std()\n",
    "\n",
    "    return np.array(data.drop(['Survived', 'PassengerId'], axis=1), dtype=np.float16).T, np.array(data['Survived']).reshape(1, -1)"
   ]
  },
  {
   "cell_type": "code",
   "execution_count": 6,
   "metadata": {},
   "outputs": [],
   "source": [
    "def train(X, y, val_X, val_y, hyp, forward, backward, accuracy):\n",
    "    # W, b = np.random.rand(X.shape[0], y.shape[0]), 0\n",
    "    W, b = np.zeros((X.shape[0], y.shape[0])), 0\n",
    "    training_records = []\n",
    "\n",
    "    for i in range(hyp['iters'] + 1):\n",
    "        pred_y = forward(Weights=W, Bias=b, X=X)\n",
    "        cost, W, b = backward(pred_Y=pred_y, grou_Y=y, Weights=W, Bias=b, X=X, hyp=hyp)\n",
    "\n",
    "        if i%(hyp['iters']//10) == 0:\n",
    "            val_pred_y = forward(Weights=W, Bias=b, X=val_X)\n",
    "            val_cost = LogLoss(val_pred_y, val_y)\n",
    "            training_records.append((i, cost, accuracy(pred_y, y), *confusion_matrix(pred_y, y)[1:], val_cost, accuracy(val_pred_y, val_y), *confusion_matrix(val_pred_y, val_y)[1:]))\n",
    "\n",
    "    return W, b, training_records    "
   ]
  },
  {
   "cell_type": "code",
   "execution_count": 7,
   "metadata": {},
   "outputs": [],
   "source": [
    "data = pd.read_csv('../train.csv')#.sample(frac=1)\n",
    "train_X, train_Y = prepare_df(data[:700])\n",
    "valid_X, valid_Y = prepare_df(data[700:])"
   ]
  },
  {
   "cell_type": "code",
   "execution_count": 8,
   "metadata": {},
   "outputs": [],
   "source": [
    "forward = forward_prop\n",
    "backward = momentum_gradient_descent\n",
    "cost_function = LogLoss\n",
    "accuracy = binary_accuracy\n",
    "\n",
    "hyp = {\n",
    "    'iters' : 500,\n",
    "    'learning_rate' : 0.1,\n",
    "    'm_train' : train_X.shape[1],\n",
    "    'cost_function' : cost_function,\n",
    "    'beta1' : 0.9,\n",
    "    'beta2' : 0.9,\n",
    "}\n",
    "\n",
    "W, b, training_records = train(train_X, train_Y, valid_X, valid_Y, hyp, forward, backward, accuracy)\n",
    "prepare_results(training_records).to_excel('./results.xlsx')"
   ]
  },
  {
   "cell_type": "code",
   "execution_count": 9,
   "metadata": {},
   "outputs": [
    {
     "data": {
      "text/html": [
       "<div>\n",
       "<style scoped>\n",
       "    .dataframe tbody tr th:only-of-type {\n",
       "        vertical-align: middle;\n",
       "    }\n",
       "\n",
       "    .dataframe tbody tr th {\n",
       "        vertical-align: top;\n",
       "    }\n",
       "\n",
       "    .dataframe thead th {\n",
       "        text-align: right;\n",
       "    }\n",
       "</style>\n",
       "<table border=\"1\" class=\"dataframe\">\n",
       "  <thead>\n",
       "    <tr style=\"text-align: right;\">\n",
       "      <th></th>\n",
       "      <th>0</th>\n",
       "      <th>1</th>\n",
       "    </tr>\n",
       "  </thead>\n",
       "  <tbody>\n",
       "    <tr>\n",
       "      <th>0</th>\n",
       "      <td>Pclass</td>\n",
       "      <td>-0.928197</td>\n",
       "    </tr>\n",
       "    <tr>\n",
       "      <th>1</th>\n",
       "      <td>Age</td>\n",
       "      <td>-0.542612</td>\n",
       "    </tr>\n",
       "    <tr>\n",
       "      <th>2</th>\n",
       "      <td>SibSp</td>\n",
       "      <td>-0.300877</td>\n",
       "    </tr>\n",
       "    <tr>\n",
       "      <th>3</th>\n",
       "      <td>Parch</td>\n",
       "      <td>-0.107553</td>\n",
       "    </tr>\n",
       "    <tr>\n",
       "      <th>4</th>\n",
       "      <td>Fare</td>\n",
       "      <td>0.033504</td>\n",
       "    </tr>\n",
       "    <tr>\n",
       "      <th>5</th>\n",
       "      <td>Sex_female</td>\n",
       "      <td>1.231622</td>\n",
       "    </tr>\n",
       "    <tr>\n",
       "      <th>6</th>\n",
       "      <td>Sex_male</td>\n",
       "      <td>-1.275970</td>\n",
       "    </tr>\n",
       "    <tr>\n",
       "      <th>7</th>\n",
       "      <td>Embarked_C</td>\n",
       "      <td>0.156325</td>\n",
       "    </tr>\n",
       "    <tr>\n",
       "      <th>8</th>\n",
       "      <td>Embarked_Q</td>\n",
       "      <td>-0.050779</td>\n",
       "    </tr>\n",
       "    <tr>\n",
       "      <th>9</th>\n",
       "      <td>Embarked_S</td>\n",
       "      <td>-0.162739</td>\n",
       "    </tr>\n",
       "  </tbody>\n",
       "</table>\n",
       "</div>"
      ],
      "text/plain": [
       "            0         1\n",
       "0      Pclass -0.928197\n",
       "1         Age -0.542612\n",
       "2       SibSp -0.300877\n",
       "3       Parch -0.107553\n",
       "4        Fare  0.033504\n",
       "5  Sex_female  1.231622\n",
       "6    Sex_male -1.275970\n",
       "7  Embarked_C  0.156325\n",
       "8  Embarked_Q -0.050779\n",
       "9  Embarked_S -0.162739"
      ]
     },
     "execution_count": 9,
     "metadata": {},
     "output_type": "execute_result"
    }
   ],
   "source": [
    "cols = ['Pclass', 'Age', 'SibSp', 'Parch', 'Fare', 'Sex_female', 'Sex_male', 'Embarked_C', 'Embarked_Q', 'Embarked_S']\n",
    "pd.DataFrame(list(zip(cols, W.T[0])))"
   ]
  }
 ],
 "metadata": {
  "kernelspec": {
   "display_name": "Python 3",
   "language": "python",
   "name": "python3"
  },
  "language_info": {
   "codemirror_mode": {
    "name": "ipython",
    "version": 3
   },
   "file_extension": ".py",
   "mimetype": "text/x-python",
   "name": "python",
   "nbconvert_exporter": "python",
   "pygments_lexer": "ipython3",
   "version": "3.10.3"
  },
  "orig_nbformat": 4
 },
 "nbformat": 4,
 "nbformat_minor": 2
}
