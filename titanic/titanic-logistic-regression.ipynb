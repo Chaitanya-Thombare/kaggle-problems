{
 "cells": [
  {
   "cell_type": "code",
   "execution_count": null,
   "metadata": {},
   "outputs": [],
   "source": [
    "import pandas as pd\n",
    "import numpy as np"
   ]
  },
  {
   "cell_type": "code",
   "execution_count": null,
   "metadata": {},
   "outputs": [],
   "source": [
    "momentum_var, rms_prop_var = None, None"
   ]
  },
  {
   "cell_type": "code",
   "execution_count": null,
   "metadata": {},
   "outputs": [],
   "source": [
    "def prepare_df(data):\n",
    "    data = data.drop(['Name', 'Ticket'], axis=1)\n",
    "    \n",
    "    data['Cabin'] = data['Cabin'] == data['Cabin']\n",
    "    \n",
    "    for col in ['Sex', 'Embarked', 'Cabin']:\n",
    "        data = data.join(pd.get_dummies(data[col], prefix=col))\n",
    "        del data[col]\n",
    "    \n",
    "    data = data.dropna(axis=0)\n",
    "    \n",
    "    uncols = ['Age', 'Fare', 'Parch', 'SibSp', 'Pclass']\n",
    "    data[uncols] = (data[uncols] - data[uncols].mean() )/ data[uncols].std()\n",
    "\n",
    "    return np.array(data.drop(['Survived', 'PassengerId'], axis=1), dtype=np.float16).T, np.array(data['Survived']).reshape(1, -1)"
   ]
  },
  {
   "cell_type": "code",
   "execution_count": null,
   "metadata": {},
   "outputs": [],
   "source": [
    "def compute_LogLoss(Yp, Yg):\n",
    "    cost = -(Yg * np.log(Yp) + (1 - Yg) * np.log(1 - Yp))\n",
    "    return np.mean(cost)"
   ]
  },
  {
   "cell_type": "code",
   "execution_count": null,
   "metadata": {},
   "outputs": [],
   "source": [
    "def forward(Weights, Bias, X, evaluate=False):\n",
    "    Z = np.dot(Weights.T, X) + Bias\n",
    "    A = 1. / (1 + np.exp(-(Z)))\n",
    "    if evaluate == False:\n",
    "        return A\n",
    "    if evaluate == True:\n",
    "        A = A > 0.5\n",
    "        return A"
   ]
  },
  {
   "cell_type": "code",
   "execution_count": null,
   "metadata": {},
   "outputs": [],
   "source": [
    "def backward(pred_Y, grou_Y, Weights, Bias, X, learning_rate ,m_train, beta=0, gd_type='gd'):\n",
    "    cost = compute_LogLoss(pred_Y.T, grou_Y.T)\n",
    "    dZ = pred_Y - grou_Y\n",
    "    dW = np.dot(X, dZ.T) / m_train\n",
    "    db = np.sum(dZ, axis=1, keepdims=True) / m_train\n",
    "    \n",
    "    if gd_type == 'gd':\n",
    "        Weights -= dW * learning_rate\n",
    "        Bias -= db * learning_rate\n",
    "\n",
    "    if gd_type == 'mgd':\n",
    "        if (momentum_var['vdW'] == 0).all(): momentum_var['vdW'] = dW\n",
    "        vdW = beta * momentum_var['vdW'] + (1 - beta) * dW\n",
    "        \n",
    "        if momentum_var['vdb'] == 0: momentum_var['vdb'] = db\n",
    "        vdb = beta * momentum_var['vdb'] + (1 - beta) * db\n",
    "        \n",
    "        momentum_var['vdW'], momentum_var['vdb'] = vdW, vdb\n",
    "\n",
    "        Weights -= vdW * learning_rate\n",
    "        Bias -= vdb * learning_rate\n",
    "    \n",
    "    if gd_type == 'rmsprop':        \n",
    "        if (rms_prop_var['sdW'] == 0).all(): rms_prop_var['sdW'] = abs(dW)\n",
    "        sdW = beta * rms_prop_var['sdW'] + (1 - beta) * (dW ** 2)\n",
    "        \n",
    "        if rms_prop_var['sdb'] == 0: rms_prop_var['sdb'] = db\n",
    "        sdb = beta * rms_prop_var['sdb'] + (1 - beta) * (db ** 2)\n",
    "        \n",
    "        rms_prop_var['sdW'], rms_prop_var['sdb'] = sdW, sdb\n",
    "\n",
    "        Weights -= learning_rate * dW / np.sqrt(sdW)\n",
    "        Bias -= learning_rate * db / np.sqrt(sdb)\n",
    "    \n",
    "    return cost, Weights, Bias"
   ]
  },
  {
   "cell_type": "code",
   "execution_count": null,
   "metadata": {},
   "outputs": [],
   "source": [
    "def accuracy(y_p, y_g):\n",
    "    y_p = y_p > 0.5\n",
    "    return np.mean((y_p == y_g))"
   ]
  },
  {
   "cell_type": "code",
   "execution_count": null,
   "metadata": {},
   "outputs": [],
   "source": [
    "def train(X, y, val_X, val_y, iters=1000, learning_rate=0.1):\n",
    "    #     W, b = np.random.rand(X.shape[0], y.shape[0]), 0\n",
    "    W, b = np.zeros((X.shape[0], y.shape[0])), 0\n",
    "    m_train = X.shape[1]\n",
    "    training_records = []\n",
    "    cost = 0\n",
    "    for i in range(iters+1):\n",
    "        pred_y = forward(Weights=W, Bias=b, X=X, evaluate=False)\n",
    "        cost, W, b = backward(pred_Y=pred_y, grou_Y=y, Weights=W, Bias=b, X=X, learning_rate=learning_rate, m_train=m_train, beta=0.9, gd_type='rmsprop')\n",
    "        \n",
    "        if i%(iters//20) == 0: \n",
    "            val_pred_y = forward(Weights=W, Bias=b, X=val_X, evaluate=False)\n",
    "            training_records.append((i, cost, accuracy(pred_y, y), accuracy(val_pred_y, val_y)))\n",
    "    \n",
    "    return W, b, training_records\n",
    "    "
   ]
  },
  {
   "cell_type": "code",
   "execution_count": null,
   "metadata": {},
   "outputs": [],
   "source": [
    "data = pd.read_csv('./train.csv')#.sample(frac=1)\n",
    "train_X, train_Y = prepare_df(data[:700])\n",
    "valid_X, valid_Y = prepare_df(data[700:])"
   ]
  },
  {
   "cell_type": "code",
   "execution_count": null,
   "metadata": {},
   "outputs": [],
   "source": [
    "momentum_var = {\n",
    "    'vdW' : np.zeros((train_X.shape[0], train_Y.shape[0])),\n",
    "    'vdb' : 0\n",
    "}\n",
    "\n",
    "rms_prop_var = {\n",
    "    'sdW' : np.zeros((train_X.shape[0], train_Y.shape[0])),\n",
    "    'sdb' : 0\n",
    "}\n",
    "\n",
    "train_X.shape, train_Y.shape, valid_X.shape, valid_Y.shape"
   ]
  },
  {
   "cell_type": "code",
   "execution_count": null,
   "metadata": {},
   "outputs": [],
   "source": [
    "W, b, training_records = train(train_X, train_Y, valid_X, valid_Y, iters=10000, learning_rate=0.01)\n",
    "training_records_df = pd.DataFrame(training_records, columns=['Iteration', 'Cost', 'Training Accuracy', 'Validation Accuracy'])\n",
    "training_records_df"
   ]
  },
  {
   "cell_type": "code",
   "execution_count": null,
   "metadata": {},
   "outputs": [],
   "source": [
    "training_records_df.to_excel('./results.xlsx')"
   ]
  }
 ],
 "metadata": {
  "kernelspec": {
   "display_name": "Python 3",
   "language": "python",
   "name": "python3"
  },
  "language_info": {
   "name": "python",
   "version": "3.10.3"
  },
  "orig_nbformat": 4
 },
 "nbformat": 4,
 "nbformat_minor": 2
}
