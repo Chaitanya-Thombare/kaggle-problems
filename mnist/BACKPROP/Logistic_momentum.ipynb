{
 "cells": [
  {
   "cell_type": "code",
   "execution_count": 1,
   "metadata": {},
   "outputs": [],
   "source": [
    "import pandas as pd\n",
    "import numpy as np"
   ]
  },
  {
   "cell_type": "code",
   "execution_count": 2,
   "metadata": {},
   "outputs": [],
   "source": [
    "cols = (list(range(-1, 784)))\n",
    "def prepare_ds(path, split=False, ratio=0.0):\n",
    "    data = pd.read_csv(filepath_or_buffer=path, names=cols)\n",
    "    data = data.sample(frac=1)\n",
    "    if split == True:    \n",
    "        d1X = np.array(data[:int(-data.shape[0] * ratio)][cols[1:]]).T\n",
    "        d1Y = np.array(pd.get_dummies(data[:int(-data.shape[0] * ratio)][-1])[:]).T\n",
    "        d2X = np.array(data[int(-data.shape[0] * ratio):][cols[1:]]).T\n",
    "        d2Y = np.array(pd.get_dummies(data[int(-data.shape[0] * ratio):][-1])[:]).T\n",
    "        return d1X, d1Y, d2X, d2Y\n",
    "    if split == False:\n",
    "        d1X = np.array(data[:][cols[1:]]).T\n",
    "        d1Y = np.array(pd.get_dummies(data[:][-1])[:]).T\n",
    "        return d1X, d1Y"
   ]
  },
  {
   "cell_type": "code",
   "execution_count": 3,
   "metadata": {},
   "outputs": [],
   "source": [
    "data_path = '../digit-recognizer/mnist_train.csv'\n",
    "test_path = '../digit-recognizer/mnist_test.csv'\n",
    "train_X, train_Y, valid_X, valid_Y = prepare_ds(data_path, split=True, ratio=0.2)\n",
    "test_X, test_Y, = prepare_ds(test_path)"
   ]
  },
  {
   "cell_type": "code",
   "execution_count": 4,
   "metadata": {},
   "outputs": [
    {
     "data": {
      "text/plain": [
       "((784, 48000), (10, 48000), (784, 12000), (10, 12000))"
      ]
     },
     "execution_count": 4,
     "metadata": {},
     "output_type": "execute_result"
    }
   ],
   "source": [
    "m_train = train_X.shape[1]\n",
    "m_test = valid_X.shape[1]\n",
    "train_X.shape, train_Y.shape, valid_X.shape, valid_Y.shape"
   ]
  },
  {
   "cell_type": "code",
   "execution_count": 5,
   "metadata": {},
   "outputs": [],
   "source": [
    "def normalize(X, Y):\n",
    "    X = (X - np.mean(X)) / (np.std(X))\n",
    "    return X, Y"
   ]
  },
  {
   "cell_type": "code",
   "execution_count": 6,
   "metadata": {},
   "outputs": [],
   "source": [
    "def compute_LogLoss(Yp, Yg):\n",
    "    cost = -(Yg * np.log(Yp) + (1 - Yg) * np.log(1 - Yp))\n",
    "    return np.mean(cost)"
   ]
  },
  {
   "cell_type": "code",
   "execution_count": 7,
   "metadata": {},
   "outputs": [],
   "source": [
    "def forward(W, b, X, eval=False):\n",
    "    Z = np.dot(W.T, X) + b\n",
    "    A = 1. / (1 + np.exp(-Z))\n",
    "    if eval == False:\n",
    "        return A\n",
    "    if eval == True:\n",
    "        return np.argmax(A, axis=0)"
   ]
  },
  {
   "cell_type": "code",
   "execution_count": 16,
   "metadata": {},
   "outputs": [],
   "source": [
    "def backward_mm(Yp, Yg, W, b, X, VdW_prev, Vdb_prev, learning_rate=0.1, beta=0.99):\n",
    "    cost = compute_LogLoss(Yp.T, Yg.T)\n",
    "    diff = Yp - Yg\n",
    "    dW = np.dot(X, diff.T) / m_train\n",
    "    db = np.sum(diff, axis=1, keepdims=True) / m_train\n",
    "\n",
    "    VdW = beta * VdW_prev + (1 - beta) * dW\n",
    "    Vdb = beta * Vdb_prev + (1 - beta) * db\n",
    "    \n",
    "    W -= VdW * learning_rate\n",
    "    b -= Vdb * learning_rate\n",
    "\n",
    "    return cost, W, b, VdW, Vdb"
   ]
  },
  {
   "cell_type": "code",
   "execution_count": 17,
   "metadata": {},
   "outputs": [],
   "source": [
    "def accuracy(y_pred, y_actu):\n",
    "    y_actt = np.argmax(y_actu, axis=0)\n",
    "    return np.mean((y_pred == y_actt))"
   ]
  },
  {
   "cell_type": "code",
   "execution_count": 18,
   "metadata": {},
   "outputs": [
    {
     "name": "stdout",
     "output_type": "stream",
     "text": [
      "0 0.6931471805599451 0.7339166666666667 0.7324166666666667\n",
      "100 0.2616671214947002 0.771125 0.7725833333333333\n",
      "200 0.21580583035937873 0.7968333333333333 0.8006666666666666\n",
      "300 0.1896205296704058 0.813375 0.8169166666666666\n",
      "400 0.172529692564997 0.824 0.8270833333333333\n",
      "500 0.16038152595439673 0.831875 0.8353333333333334\n",
      "600 0.15122281928166784 0.83775 0.8426666666666667\n",
      "700 0.1440205213219646 0.8420416666666667 0.84675\n",
      "800 0.13817616742811972 0.8462083333333333 0.8511666666666666\n",
      "900 0.13331781600847795 0.8494791666666667 0.8549166666666667\n"
     ]
    }
   ],
   "source": [
    "W = np.zeros((784, 10))\n",
    "b = np.zeros((10, 1))\n",
    "mini_batch = 6000\n",
    "prep_X, prep_Y = normalize(train_X, train_Y)   \n",
    "for i in range(1000):\n",
    "    VdW_prev, Vdb_prev = 0, 0\n",
    "    pred_Y = forward(W, b, prep_X)\n",
    "    cost, W, b, VdW_prev, Vdb_prev = backward_mm(pred_Y, prep_Y, W, b, prep_X, VdW_prev, Vdb_prev)\n",
    "    if i % 100 == 0:\n",
    "        tr_X, tr_Y = prep_X, prep_Y\n",
    "        vl_X, vl_Y = normalize(valid_X, valid_Y)\n",
    "        tr_P = forward(W, b, tr_X, eval=True)\n",
    "        vl_P = forward(W, b, vl_X, eval=True)\n",
    "\n",
    "        print(i, cost, accuracy(tr_P, tr_Y), accuracy(vl_P, vl_Y))"
   ]
  },
  {
   "cell_type": "code",
   "execution_count": 23,
   "metadata": {},
   "outputs": [
    {
     "name": "stdout",
     "output_type": "stream",
     "text": [
      "0 0.6931471805599451 0.7318958333333333 0.7269166666666667\n",
      "50 0.15959454754259883 0.8327708333333333 0.8339166666666666\n",
      "100 0.1287349998293956 0.853125 0.8544166666666667\n",
      "150 0.11492367172747289 0.863375 0.86375\n",
      "200 0.10678538819475174 0.8687916666666666 0.8699166666666667\n",
      "250 0.10131911374647845 0.8727291666666667 0.8733333333333333\n",
      "300 0.09734946014925432 0.8762708333333333 0.877\n",
      "350 0.09431184193487718 0.8791458333333333 0.8788333333333334\n",
      "400 0.09189824256856557 0.8816041666666666 0.881\n",
      "450 0.08992514441697294 0.88325 0.88275\n",
      "500 0.08827585439193487 0.88475 0.8845\n",
      "550 0.08687234520474586 0.8858541666666667 0.8858333333333334\n",
      "600 0.08566030818120637 0.8871041666666667 0.8871666666666667\n",
      "650 0.0846006828944108 0.8880625 0.8886666666666667\n",
      "700 0.08366459716365303 0.8889583333333333 0.8893333333333333\n",
      "750 0.08283020974759041 0.8898958333333333 0.8909166666666667\n",
      "800 0.08208066672756485 0.8908541666666666 0.8915\n",
      "850 0.08140273668896346 0.8917708333333333 0.8918333333333334\n",
      "900 0.08078587423154472 0.8922708333333333 0.8929166666666667\n",
      "950 0.08022156201092463 0.893 0.8935\n"
     ]
    }
   ],
   "source": [
    "W = np.zeros((784, 10))\n",
    "b = np.zeros((10, 1))\n",
    "prep_X, prep_Y = normalize(train_X, train_Y)\n",
    "for i in range(1000):\n",
    "    VdW_prev, Vdb_prev = 0, 0\n",
    "    pred_Y = forward(W, b, prep_X)\n",
    "    cost, W, b, VdW_prev, Vdb_prev = backward_mm(pred_Y, prep_Y, W, b, prep_X, VdW_prev, Vdb_prev)\n",
    "    if i % 50 == 0:\n",
    "        tr_X, tr_Y = prep_X, prep_Y\n",
    "        vl_X, vl_Y = normalize(valid_X, valid_Y)\n",
    "        tr_P = forward(W, b, tr_X, eval=True)\n",
    "        vl_P = forward(W, b, vl_X, eval=True)\n",
    "\n",
    "        print(i, cost, accuracy(tr_P, tr_Y), accuracy(vl_P, vl_Y))"
   ]
  },
  {
   "cell_type": "code",
   "execution_count": 15,
   "metadata": {},
   "outputs": [
    {
     "data": {
      "text/plain": [
       "0.8925833333333333"
      ]
     },
     "execution_count": 15,
     "metadata": {},
     "output_type": "execute_result"
    }
   ],
   "source": [
    "val_prep_X, val_prep_Y = normalize(valid_X, valid_Y)\n",
    "valid_preds = forward(W, b, val_prep_X, eval=True)\n",
    "accuracy(valid_preds, val_prep_Y)"
   ]
  },
  {
   "cell_type": "code",
   "execution_count": 16,
   "metadata": {},
   "outputs": [
    {
     "data": {
      "text/plain": [
       "0.9006"
      ]
     },
     "execution_count": 16,
     "metadata": {},
     "output_type": "execute_result"
    }
   ],
   "source": [
    "test_prep_X, test_prep_Y = normalize(test_X, test_Y)\n",
    "test_preds = forward(W, b, test_prep_X, eval=True)\n",
    "accuracy(test_preds, test_prep_Y)"
   ]
  }
 ],
 "metadata": {
  "kernelspec": {
   "display_name": "Python 3",
   "language": "python",
   "name": "python3"
  },
  "language_info": {
   "codemirror_mode": {
    "name": "ipython",
    "version": 3
   },
   "file_extension": ".py",
   "mimetype": "text/x-python",
   "name": "python",
   "nbconvert_exporter": "python",
   "pygments_lexer": "ipython3",
   "version": "3.8.10 (tags/v3.8.10:3d8993a, May  3 2021, 11:48:03) [MSC v.1928 64 bit (AMD64)]"
  },
  "orig_nbformat": 4,
  "vscode": {
   "interpreter": {
    "hash": "4bce99a05a442baef0198635a136dd704752c6c8c0ad571d36fcdeb972def08c"
   }
  }
 },
 "nbformat": 4,
 "nbformat_minor": 2
}
