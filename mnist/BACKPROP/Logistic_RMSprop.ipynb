{
 "cells": [
  {
   "cell_type": "code",
   "execution_count": 1,
   "metadata": {},
   "outputs": [],
   "source": [
    "import pandas as pd\n",
    "import numpy as np"
   ]
  },
  {
   "cell_type": "code",
   "execution_count": 2,
   "metadata": {},
   "outputs": [],
   "source": [
    "cols = (list(range(-1, 784)))\n",
    "def prepare_ds(path, split=False, ratio=0.0):\n",
    "    data = pd.read_csv(filepath_or_buffer=path, names=cols)\n",
    "    data = data.sample(frac=1)\n",
    "    if split == True:    \n",
    "        d1X = np.array(data[:int(-data.shape[0] * ratio)][cols[1:]]).T\n",
    "        d1Y = np.array(pd.get_dummies(data[:int(-data.shape[0] * ratio)][-1])[:]).T\n",
    "        d2X = np.array(data[int(-data.shape[0] * ratio):][cols[1:]]).T\n",
    "        d2Y = np.array(pd.get_dummies(data[int(-data.shape[0] * ratio):][-1])[:]).T\n",
    "        return d1X, d1Y, d2X, d2Y\n",
    "    if split == False:\n",
    "        d1X = np.array(data[:][cols[1:]]).T\n",
    "        d1Y = np.array(pd.get_dummies(data[:][-1])[:]).T\n",
    "        return d1X, d1Y"
   ]
  },
  {
   "cell_type": "code",
   "execution_count": 3,
   "metadata": {},
   "outputs": [],
   "source": [
    "data_path = '../digit-recognizer/mnist_train.csv'\n",
    "test_path = '../digit-recognizer/mnist_test.csv'\n",
    "train_X, train_Y, valid_X, valid_Y = prepare_ds(data_path, split=True, ratio=0.2)\n",
    "test_X, test_Y, = prepare_ds(test_path)"
   ]
  },
  {
   "cell_type": "code",
   "execution_count": 4,
   "metadata": {},
   "outputs": [
    {
     "data": {
      "text/plain": [
       "((784, 48000), (10, 48000), (784, 12000), (10, 12000))"
      ]
     },
     "execution_count": 4,
     "metadata": {},
     "output_type": "execute_result"
    }
   ],
   "source": [
    "m_train = train_X.shape[1]\n",
    "m_test = valid_X.shape[1]\n",
    "train_X.shape, train_Y.shape, valid_X.shape, valid_Y.shape"
   ]
  },
  {
   "cell_type": "code",
   "execution_count": 5,
   "metadata": {},
   "outputs": [],
   "source": [
    "def normalize(X, Y):\n",
    "    X = (X - np.mean(X)) / (np.std(X))\n",
    "    return X, Y"
   ]
  },
  {
   "cell_type": "code",
   "execution_count": 6,
   "metadata": {},
   "outputs": [],
   "source": [
    "def compute_LogLoss(Yp, Yg):\n",
    "    cost = -(Yg * np.log(Yp) + (1 - Yg) * np.log(1 - Yp))\n",
    "    return np.mean(cost)"
   ]
  },
  {
   "cell_type": "code",
   "execution_count": 7,
   "metadata": {},
   "outputs": [],
   "source": [
    "def forward(W, b, X, eval=False):\n",
    "    Z = np.dot(W.T, X) + b\n",
    "    A = 1. / (1 + np.exp(-Z))\n",
    "    if eval == False:\n",
    "        return A\n",
    "    if eval == True:\n",
    "        return np.argmax(A, axis=0)"
   ]
  },
  {
   "cell_type": "code",
   "execution_count": 38,
   "metadata": {},
   "outputs": [],
   "source": [
    "def backward_mm(Yp, Yg, W, b, X, SdW_prev, Sdb_prev, learning_rate=0.001, beta=0.99):\n",
    "    cost = compute_LogLoss(Yp.T, Yg.T)\n",
    "    diff = Yp - Yg\n",
    "    dW = np.dot(X, diff.T) / m_train\n",
    "    db = np.sum(diff, axis=1, keepdims=True) / m_train\n",
    "\n",
    "    SdW = beta * SdW_prev + (1 - beta) * (dW ** 2)\n",
    "    Sdb = beta * Sdb_prev + (1 - beta) * (db ** 2)\n",
    "    \n",
    "    W -= learning_rate * dW / np.sqrt(SdW + 10**-8)\n",
    "    b -= learning_rate * db / np.sqrt(Sdb + 10**-8)\n",
    "\n",
    "    return cost, W, b, SdW, Sdb"
   ]
  },
  {
   "cell_type": "code",
   "execution_count": 39,
   "metadata": {},
   "outputs": [],
   "source": [
    "def accuracy(y_pred, y_actu):\n",
    "    y_actt = np.argmax(y_actu, axis=0)\n",
    "    return np.mean((y_pred == y_actt))"
   ]
  },
  {
   "cell_type": "code",
   "execution_count": 40,
   "metadata": {},
   "outputs": [
    {
     "name": "stdout",
     "output_type": "stream",
     "text": [
      "0 0.6931471805599451 0.4043541666666667 0.3993333333333333\n",
      "100 0.18593674482618644 0.8394583333333333 0.83975\n",
      "200 0.1821173713462767 0.8434791666666667 0.8448333333333333\n",
      "300 0.17820278087718436 0.8465833333333334 0.8475\n",
      "400 0.17469574680920383 0.8484583333333333 0.8496666666666667\n",
      "500 0.1715803180515489 0.8506458333333333 0.8506666666666667\n",
      "600 0.16879378577201415 0.8519791666666666 0.85225\n",
      "700 0.166283974411588 0.85325 0.8545\n",
      "800 0.16400949984299942 0.8544375 0.85625\n",
      "900 0.16193710308443357 0.8555833333333334 0.8573333333333333\n",
      "1000 0.1600393623928418 0.8565625 0.85875\n",
      "1100 0.15829321721829964 0.8576666666666667 0.8596666666666667\n",
      "1200 0.15667909634239158 0.8582916666666667 0.8605833333333334\n",
      "1300 0.15518034713408738 0.8590625 0.8620833333333333\n",
      "1400 0.15378280038624087 0.8599375 0.86275\n",
      "1500 0.15247440978113067 0.8609375 0.863\n",
      "1600 0.1512449394977835 0.8618541666666667 0.8635833333333334\n",
      "1700 0.15008568705767047 0.8626041666666666 0.8639166666666667\n",
      "1800 0.1489892395487013 0.863625 0.8645833333333334\n",
      "1900 0.14794926342447615 0.8643333333333333 0.8651666666666666\n"
     ]
    }
   ],
   "source": [
    "W = np.zeros((784, 10))\n",
    "b = np.zeros((10, 1))\n",
    "mini_batch = 6000\n",
    "prep_X, prep_Y = normalize(train_X, train_Y)   \n",
    "for i in range(2000):\n",
    "    SdW_prev, Sdb_prev = 0, 0\n",
    "    pred_Y = forward(W, b, prep_X)\n",
    "    cost, W, b, SdW_prev, Sdb_prev = backward_mm(pred_Y, prep_Y, W, b, prep_X, SdW_prev, Sdb_prev)\n",
    "    if i % 100 == 0:\n",
    "        tr_X, tr_Y = prep_X, prep_Y\n",
    "        vl_X, vl_Y = normalize(valid_X, valid_Y)\n",
    "        tr_P = forward(W, b, tr_X, eval=True)\n",
    "        vl_P = forward(W, b, vl_X, eval=True)\n",
    "\n",
    "        print(i, cost, accuracy(tr_P, tr_Y), accuracy(vl_P, vl_Y))"
   ]
  },
  {
   "cell_type": "code",
   "execution_count": 15,
   "metadata": {},
   "outputs": [
    {
     "data": {
      "text/plain": [
       "0.8925833333333333"
      ]
     },
     "execution_count": 15,
     "metadata": {},
     "output_type": "execute_result"
    }
   ],
   "source": [
    "val_prep_X, val_prep_Y = normalize(valid_X, valid_Y)\n",
    "valid_preds = forward(W, b, val_prep_X, eval=True)\n",
    "accuracy(valid_preds, val_prep_Y)"
   ]
  },
  {
   "cell_type": "code",
   "execution_count": 16,
   "metadata": {},
   "outputs": [
    {
     "data": {
      "text/plain": [
       "0.9006"
      ]
     },
     "execution_count": 16,
     "metadata": {},
     "output_type": "execute_result"
    }
   ],
   "source": [
    "test_prep_X, test_prep_Y = normalize(test_X, test_Y)\n",
    "test_preds = forward(W, b, test_prep_X, eval=True)\n",
    "accuracy(test_preds, test_prep_Y)"
   ]
  }
 ],
 "metadata": {
  "kernelspec": {
   "display_name": "Python 3",
   "language": "python",
   "name": "python3"
  },
  "language_info": {
   "codemirror_mode": {
    "name": "ipython",
    "version": 3
   },
   "file_extension": ".py",
   "mimetype": "text/x-python",
   "name": "python",
   "nbconvert_exporter": "python",
   "pygments_lexer": "ipython3",
   "version": "3.8.10"
  },
  "orig_nbformat": 4,
  "vscode": {
   "interpreter": {
    "hash": "4bce99a05a442baef0198635a136dd704752c6c8c0ad571d36fcdeb972def08c"
   }
  }
 },
 "nbformat": 4,
 "nbformat_minor": 2
}
