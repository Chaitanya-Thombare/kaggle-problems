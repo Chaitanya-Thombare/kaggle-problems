{
 "cells": [
  {
   "cell_type": "code",
   "execution_count": 2,
   "metadata": {},
   "outputs": [],
   "source": [
    "import pandas as pd\n",
    "import numpy as np"
   ]
  },
  {
   "cell_type": "code",
   "execution_count": 3,
   "metadata": {},
   "outputs": [],
   "source": [
    "cols = (list(range(-1, 784)))\n",
    "def prepare_ds(path, split=False, ratio=0.0):\n",
    "    data = pd.read_csv(filepath_or_buffer=path, names=cols)\n",
    "    data = data.sample(frac=1)\n",
    "    if split == True:    \n",
    "        d1X = np.array(data[:int(-data.shape[0] * ratio)][cols[1:]]).T\n",
    "        d1Y = np.array(pd.get_dummies(data[:int(-data.shape[0] * ratio)][-1])[:]).T\n",
    "        d2X = np.array(data[int(-data.shape[0] * ratio):][cols[1:]]).T\n",
    "        d2Y = np.array(pd.get_dummies(data[int(-data.shape[0] * ratio):][-1])[:]).T\n",
    "        return d1X, d1Y, d2X, d2Y\n",
    "    if split == False:\n",
    "        d1X = np.array(data[:][cols[1:]]).T\n",
    "        d1Y = np.array(pd.get_dummies(data[:][-1])[:]).T\n",
    "        return d1X, d1Y"
   ]
  },
  {
   "cell_type": "code",
   "execution_count": 4,
   "metadata": {},
   "outputs": [],
   "source": [
    "data_path = '../digit-recognizer/mnist_train.csv'\n",
    "test_path = '../digit-recognizer/mnist_test.csv'\n",
    "train_X, train_Y, valid_X, valid_Y = prepare_ds(data_path, split=True, ratio=0.2)\n",
    "test_X, test_Y, = prepare_ds(test_path)"
   ]
  },
  {
   "cell_type": "code",
   "execution_count": 5,
   "metadata": {},
   "outputs": [
    {
     "data": {
      "text/plain": [
       "((784, 48000), (10, 48000), (784, 12000), (10, 12000))"
      ]
     },
     "execution_count": 5,
     "metadata": {},
     "output_type": "execute_result"
    }
   ],
   "source": [
    "m_train = train_X.shape[1]\n",
    "m_test = valid_X.shape[1]\n",
    "train_X.shape, train_Y.shape, valid_X.shape, valid_Y.shape"
   ]
  },
  {
   "cell_type": "code",
   "execution_count": 18,
   "metadata": {},
   "outputs": [],
   "source": [
    "def normalize(X, Y):\n",
    "    X = (X - np.mean(X)) / np.std(X)\n",
    "    return X, Y"
   ]
  },
  {
   "cell_type": "code",
   "execution_count": 7,
   "metadata": {},
   "outputs": [],
   "source": [
    "def compute_MSE(Yp, Yg):\n",
    "    cost = (Yg - Yp) ** 2\n",
    "    return np.mean(cost)"
   ]
  },
  {
   "cell_type": "code",
   "execution_count": 8,
   "metadata": {},
   "outputs": [],
   "source": [
    "def forward(W, b, X, eval=False):\n",
    "    Z = np.dot(W.T, X) + b\n",
    "    A = 1. / (1 + np.exp(-Z))\n",
    "    if eval == False:\n",
    "        return A\n",
    "    if eval == True:\n",
    "        return np.argmax(A, axis=0)"
   ]
  },
  {
   "cell_type": "code",
   "execution_count": 9,
   "metadata": {},
   "outputs": [],
   "source": [
    "def backward(Yp, Yg, W, b, X, learning_rate=0.1):\n",
    "    cost = compute_MSE(Yp.T, Yg.T)\n",
    "    diff = 2 * (Yp - Yg)\n",
    "    dW = np.dot(X, diff.T) / m_train\n",
    "    db = np.sum(diff, axis=1, keepdims=True) / m_train\n",
    "    \n",
    "    W -= dW * learning_rate\n",
    "    b -= db * learning_rate\n",
    "    return cost, W, b"
   ]
  },
  {
   "cell_type": "code",
   "execution_count": 10,
   "metadata": {},
   "outputs": [],
   "source": [
    "def accuracy(y_pred, y_actu):\n",
    "    y_actt = np.argmax(y_actu, axis=0)\n",
    "    return np.mean((y_pred == y_actt))"
   ]
  },
  {
   "cell_type": "code",
   "execution_count": 20,
   "metadata": {},
   "outputs": [
    {
     "name": "stdout",
     "output_type": "stream",
     "text": [
      "0 0.25\n",
      "10 0.03844744266441059\n",
      "20 0.029186846679274247\n",
      "30 0.024469903179005947\n",
      "40 0.022073812688573394\n",
      "50 0.021073496004437628\n",
      "60 0.020497724048394814\n",
      "70 0.020059846413298207\n",
      "80 0.01971129993269403\n",
      "90 0.019424722677136044\n",
      "100 0.019179490715640155\n",
      "110 0.018966062250414282\n",
      "120 0.018780529011136523\n",
      "130 0.018619771055707623\n",
      "140 0.01847999802938504\n",
      "150 0.018357169990396167\n",
      "160 0.018247677231455792\n",
      "170 0.01814867826198515\n",
      "180 0.018058107328635355\n",
      "190 0.017974513768880474\n",
      "200 0.017896866752140063\n",
      "210 0.017824397076642174\n",
      "220 0.017756496239345415\n",
      "230 0.017692662310813883\n",
      "240 0.017632472670484952\n",
      "250 0.01757556808448476\n",
      "260 0.017521640699065727\n",
      "270 0.01747042400206901\n",
      "280 0.017421684768401276\n",
      "290 0.017375217042450184\n",
      "300 0.01733083781411043\n",
      "310 0.01728838385316159\n",
      "320 0.017247709227887906\n",
      "330 0.017208683205490256\n",
      "340 0.01717118839235982\n",
      "350 0.017135119071682747\n",
      "360 0.017100379736052704\n",
      "370 0.01706688381629861\n",
      "380 0.017034552596948256\n",
      "390 0.01700331429771455\n"
     ]
    }
   ],
   "source": [
    "W = np.zeros((784, 10))\n",
    "b = np.zeros((10, 1))\n",
    "prep_X, prep_Y = normalize(train_X, train_Y)\n",
    "for i in range(400):\n",
    "    pred_Y = forward(W, b, prep_X)\n",
    "    cost, W, b = backward(pred_Y, prep_Y, W, b, prep_X)\n",
    "    if i % 10 == 0:\n",
    "        print(i, cost)"
   ]
  },
  {
   "cell_type": "code",
   "execution_count": 21,
   "metadata": {},
   "outputs": [
    {
     "data": {
      "text/plain": [
       "0.9083333333333333"
      ]
     },
     "execution_count": 21,
     "metadata": {},
     "output_type": "execute_result"
    }
   ],
   "source": [
    "val_prep_X, val_prep_Y = normalize(valid_X, valid_Y)\n",
    "valid_preds = forward(W, b, val_prep_X, eval=True)\n",
    "accuracy(valid_preds, val_prep_Y)"
   ]
  },
  {
   "cell_type": "code",
   "execution_count": 22,
   "metadata": {},
   "outputs": [
    {
     "data": {
      "text/plain": [
       "0.9173"
      ]
     },
     "execution_count": 22,
     "metadata": {},
     "output_type": "execute_result"
    }
   ],
   "source": [
    "test_prep_X, test_prep_Y = normalize(test_X, test_Y)\n",
    "test_preds = forward(W, b, test_prep_X, eval=True)\n",
    "accuracy(test_preds, test_prep_Y)"
   ]
  }
 ],
 "metadata": {
  "kernelspec": {
   "display_name": "Python 3",
   "language": "python",
   "name": "python3"
  },
  "language_info": {
   "codemirror_mode": {
    "name": "ipython",
    "version": 3
   },
   "file_extension": ".py",
   "mimetype": "text/x-python",
   "name": "python",
   "nbconvert_exporter": "python",
   "pygments_lexer": "ipython3",
   "version": "3.8.10 (tags/v3.8.10:3d8993a, May  3 2021, 11:48:03) [MSC v.1928 64 bit (AMD64)]"
  },
  "orig_nbformat": 4,
  "vscode": {
   "interpreter": {
    "hash": "4bce99a05a442baef0198635a136dd704752c6c8c0ad571d36fcdeb972def08c"
   }
  }
 },
 "nbformat": 4,
 "nbformat_minor": 2
}
