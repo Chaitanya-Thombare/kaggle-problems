{
 "cells": [
  {
   "cell_type": "code",
   "execution_count": 1,
   "metadata": {},
   "outputs": [],
   "source": [
    "import pandas as pd\n",
    "import numpy as np"
   ]
  },
  {
   "cell_type": "code",
   "execution_count": 2,
   "metadata": {},
   "outputs": [],
   "source": [
    "cols = (list(range(-1, 784)))\n",
    "def prepare_ds(path, split=False, ratio=0.0):\n",
    "    data = pd.read_csv(filepath_or_buffer=path, names=cols)\n",
    "    data = data.sample(frac=1)\n",
    "    if split == True:    \n",
    "        d1X = np.array(data[:int(-data.shape[0] * ratio)][cols[1:]]).T\n",
    "        d1Y = np.array(pd.get_dummies(data[:int(-data.shape[0] * ratio)][-1])[:]).T\n",
    "        d2X = np.array(data[int(-data.shape[0] * ratio):][cols[1:]]).T\n",
    "        d2Y = np.array(pd.get_dummies(data[int(-data.shape[0] * ratio):][-1])[:]).T\n",
    "        return d1X, d1Y, d2X, d2Y\n",
    "    if split == False:\n",
    "        d1X = np.array(data[:][cols[1:]]).T\n",
    "        d1Y = np.array(pd.get_dummies(data[:][-1])[:]).T\n",
    "        return d1X, d1Y"
   ]
  },
  {
   "cell_type": "code",
   "execution_count": 3,
   "metadata": {},
   "outputs": [],
   "source": [
    "data_path = '../digit-recognizer/mnist_train.csv'\n",
    "test_path = '../digit-recognizer/mnist_test.csv'\n",
    "train_X, train_Y, valid_X, valid_Y = prepare_ds(data_path, split=True, ratio=0.2)\n",
    "test_X, test_Y, = prepare_ds(test_path)"
   ]
  },
  {
   "cell_type": "code",
   "execution_count": 4,
   "metadata": {},
   "outputs": [
    {
     "data": {
      "text/plain": [
       "((784, 48000), (10, 48000), (784, 12000), (10, 12000))"
      ]
     },
     "execution_count": 4,
     "metadata": {},
     "output_type": "execute_result"
    }
   ],
   "source": [
    "m_train = train_X.shape[1]\n",
    "m_test = valid_X.shape[1]\n",
    "train_X.shape, train_Y.shape, valid_X.shape, valid_Y.shape"
   ]
  },
  {
   "cell_type": "code",
   "execution_count": 18,
   "metadata": {},
   "outputs": [],
   "source": [
    "def normalize(X, Y):\n",
    "    X = (X - np.mean(X, axis=0)) / (np.std(X, axis=0))\n",
    "    return X, Y"
   ]
  },
  {
   "cell_type": "code",
   "execution_count": 13,
   "metadata": {},
   "outputs": [],
   "source": [
    "def compute_LogLoss(Yp, Yg):\n",
    "    cost = -(Yg * np.log(Yp) + (1 - Yg) * np.log(1 - Yp))\n",
    "    return np.mean(cost)"
   ]
  },
  {
   "cell_type": "code",
   "execution_count": 34,
   "metadata": {},
   "outputs": [],
   "source": [
    "def accuracy(y_pred, y_actu):\n",
    "    y_actt = np.argmax(y_actu, axis=0)\n",
    "    return np.mean((y_pred == y_actt))"
   ]
  },
  {
   "cell_type": "code",
   "execution_count": 35,
   "metadata": {},
   "outputs": [],
   "source": [
    "def forward(W, b, X, eval=False):\n",
    "    Z = np.dot(W.T, X) + b\n",
    "    A = 1. / (1 + np.exp(-Z))\n",
    "    if eval == False:\n",
    "        return A\n",
    "    if eval == True:\n",
    "        return np.argmax(A, axis=0)"
   ]
  },
  {
   "cell_type": "code",
   "execution_count": 58,
   "metadata": {},
   "outputs": [],
   "source": [
    "def backward(Yp, Yg, W, b, X, learning_rate=0.1, lambd=0.00):\n",
    "    cost = compute_LogLoss(Yp.T, Yg.T)\n",
    "    diff = (Yp - Yg)\n",
    "    dW = (np.dot(X, diff.T) + (lambd * np.sign(W))) / m_train\n",
    "    db = np.sum(diff, axis=1, keepdims=True) / m_train\n",
    "    \n",
    "    W -= dW * learning_rate\n",
    "    b -= db * learning_rate\n",
    "    return cost, W, b"
   ]
  },
  {
   "cell_type": "code",
   "execution_count": 59,
   "metadata": {},
   "outputs": [
    {
     "name": "stdout",
     "output_type": "stream",
     "text": [
      "10 0.13130596607543302 0.8463333333333334 0.8493333333333334\n",
      "20 0.1113977617239703 0.8628333333333333 0.8665833333333334\n",
      "30 0.10289924572513716 0.8705 0.8735\n",
      "40 0.09797225521287646 0.8761666666666666 0.88\n",
      "50 0.09467297133573485 0.8781666666666667 0.8836666666666667\n",
      "60 0.09226706831965514 0.882 0.8853333333333333\n",
      "70 0.09041098300482242 0.8836666666666667 0.8861666666666667\n",
      "80 0.08892083233345686 0.8858333333333334 0.8880833333333333\n",
      "90 0.08768851544915893 0.8871666666666667 0.88925\n",
      "100 0.0866459009549092 0.8878333333333334 0.8903333333333333\n"
     ]
    }
   ],
   "source": [
    "W = np.zeros((784, 10))\n",
    "b = np.zeros((10, 1))\n",
    "mini_batch = 6000\n",
    "new_X, new_Y = normalize(train_X, train_Y) \n",
    "for i in range(1, 101):\n",
    "    for end in range(mini_batch, 48001, mini_batch):\n",
    "        start = end - mini_batch\n",
    "        prep_X, prep_Y = new_X[:, start:end], new_Y[:, start:end]\n",
    "        pred_Y = forward(W, b, prep_X)\n",
    "        cost, W, b = backward(pred_Y, prep_Y, W, b, prep_X)\n",
    "    if i % 10 == 0:\n",
    "        tr_X, tr_Y = prep_X, prep_Y\n",
    "        vl_X, vl_Y = normalize(valid_X, valid_Y)\n",
    "        tr_P = forward(W, b, tr_X, eval=True)\n",
    "        vl_P = forward(W, b, vl_X, eval=True)\n",
    "\n",
    "        print(i, cost, accuracy(tr_P, tr_Y), accuracy(vl_P, vl_Y))"
   ]
  },
  {
   "attachments": {},
   "cell_type": "markdown",
   "metadata": {},
   "source": [
    "1\n",
    "0.08714329521904246 0.8876666666666667 0.8900833333333333\n",
    "\n",
    "0.1\n",
    "0.08669362165359246 0.8878333333333334 0.89025\n",
    "\n",
    "0.01\n",
    "0.08665065315585681 0.8878333333333334 0.8903333333333333\n",
    "\n",
    "0\n",
    "0.0866459009549092 0.8878333333333334 0.8903333333333333"
   ]
  },
  {
   "cell_type": "code",
   "execution_count": 47,
   "metadata": {},
   "outputs": [
    {
     "data": {
      "text/plain": [
       "0.9066666666666666"
      ]
     },
     "execution_count": 47,
     "metadata": {},
     "output_type": "execute_result"
    }
   ],
   "source": [
    "val_prep_X, val_prep_Y = normalize(valid_X, valid_Y)\n",
    "valid_preds = forward(W, b, val_prep_X, eval=True)\n",
    "accuracy(valid_preds, val_prep_Y)"
   ]
  },
  {
   "cell_type": "code",
   "execution_count": 48,
   "metadata": {},
   "outputs": [
    {
     "data": {
      "text/plain": [
       "0.9158"
      ]
     },
     "execution_count": 48,
     "metadata": {},
     "output_type": "execute_result"
    }
   ],
   "source": [
    "test_prep_X, test_prep_Y = normalize(test_X, test_Y)\n",
    "test_preds = forward(W, b, test_prep_X, eval=True)\n",
    "accuracy(test_preds, test_prep_Y)"
   ]
  },
  {
   "cell_type": "code",
   "execution_count": 3,
   "metadata": {},
   "outputs": [
    {
     "name": "stdout",
     "output_type": "stream",
     "text": [
      "290658329630075232008129876493788552328099955711944879478256335\n"
     ]
    }
   ],
   "source": [
    "print(23543456543345654323456543345*12345609876567898765678978909876543)"
   ]
  }
 ],
 "metadata": {
  "kernelspec": {
   "display_name": "Python 3",
   "language": "python",
   "name": "python3"
  },
  "language_info": {
   "codemirror_mode": {
    "name": "ipython",
    "version": 3
   },
   "file_extension": ".py",
   "mimetype": "text/x-python",
   "name": "python",
   "nbconvert_exporter": "python",
   "pygments_lexer": "ipython3",
   "version": "3.8.10"
  },
  "orig_nbformat": 4,
  "vscode": {
   "interpreter": {
    "hash": "4bce99a05a442baef0198635a136dd704752c6c8c0ad571d36fcdeb972def08c"
   }
  }
 },
 "nbformat": 4,
 "nbformat_minor": 2
}
