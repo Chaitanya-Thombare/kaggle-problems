{
 "cells": [
  {
   "cell_type": "code",
   "execution_count": 1,
   "metadata": {},
   "outputs": [],
   "source": [
    "import pandas as pd\n",
    "import numpy as np"
   ]
  },
  {
   "cell_type": "code",
   "execution_count": 2,
   "metadata": {},
   "outputs": [],
   "source": [
    "cols = (list(range(-1, 784)))\n",
    "def prepare_ds(path, split=False, ratio=0.0):\n",
    "    data = pd.read_csv(filepath_or_buffer=path, names=cols)\n",
    "    data = data.sample(frac=1)\n",
    "    if split == True:    \n",
    "        d1X = np.array(data[:int(-data.shape[0] * ratio)][cols[1:]]).T\n",
    "        d1Y = np.array(pd.get_dummies(data[:int(-data.shape[0] * ratio)][-1])[:]).T\n",
    "        d2X = np.array(data[int(-data.shape[0] * ratio):][cols[1:]]).T\n",
    "        d2Y = np.array(pd.get_dummies(data[int(-data.shape[0] * ratio):][-1])[:]).T\n",
    "        return d1X, d1Y, d2X, d2Y\n",
    "    if split == False:\n",
    "        d1X = np.array(data[:][cols[1:]]).T\n",
    "        d1Y = np.array(pd.get_dummies(data[:][-1])[:]).T\n",
    "        return d1X, d1Y"
   ]
  },
  {
   "cell_type": "code",
   "execution_count": 3,
   "metadata": {},
   "outputs": [],
   "source": [
    "data_path = '../digit-recognizer/mnist_train.csv'\n",
    "test_path = '../digit-recognizer/mnist_test.csv'\n",
    "train_X, train_Y, valid_X, valid_Y = prepare_ds(data_path, split=True, ratio=0.2)\n",
    "test_X, test_Y, = prepare_ds(test_path)"
   ]
  },
  {
   "cell_type": "code",
   "execution_count": 4,
   "metadata": {},
   "outputs": [
    {
     "data": {
      "text/plain": [
       "((784, 48000), (10, 48000), (784, 12000), (10, 12000))"
      ]
     },
     "execution_count": 4,
     "metadata": {},
     "output_type": "execute_result"
    }
   ],
   "source": [
    "m_train = train_X.shape[1]\n",
    "m_test = valid_X.shape[1]\n",
    "train_X.shape, train_Y.shape, valid_X.shape, valid_Y.shape"
   ]
  },
  {
   "cell_type": "code",
   "execution_count": 5,
   "metadata": {},
   "outputs": [],
   "source": [
    "random_M, random_V = np.random.randint(-10, 10) / 100, np.random.randint(-10, 10) / 100\n",
    "def normalize(X, Y):\n",
    "    X = (X - np.mean(X) * (1 - random_M)) / (np.std(X) * (1 - random_V))\n",
    "    return X, Y"
   ]
  },
  {
   "cell_type": "code",
   "execution_count": 6,
   "metadata": {},
   "outputs": [],
   "source": [
    "def compute_LogLoss(Yp, Yg):\n",
    "    cost = -(Yg * np.log(Yp) + (1 - Yg) * np.log(1 - Yp))\n",
    "    return np.mean(cost)"
   ]
  },
  {
   "cell_type": "code",
   "execution_count": 7,
   "metadata": {},
   "outputs": [],
   "source": [
    "def forward(W, b, X, eval=False):\n",
    "    Z = np.dot(W.T, X) + b\n",
    "    A = 1. / (1 + np.exp(-Z))\n",
    "    if eval == False:\n",
    "        return A\n",
    "    if eval == True:\n",
    "        return np.argmax(A, axis=0)"
   ]
  },
  {
   "cell_type": "code",
   "execution_count": 8,
   "metadata": {},
   "outputs": [],
   "source": [
    "def backward_gd(Yp, Yg, W, b, X, learning_rate=0.1):\n",
    "    cost = compute_LogLoss(Yp.T, Yg.T)\n",
    "    diff = Yp - Yg\n",
    "    dW = np.dot(X, diff.T) / m_train\n",
    "    db = np.sum(diff, axis=1, keepdims=True) / m_train\n",
    "    \n",
    "    W -= dW * learning_rate\n",
    "    b -= db * learning_rate\n",
    "    return cost, W, b"
   ]
  },
  {
   "cell_type": "code",
   "execution_count": 9,
   "metadata": {},
   "outputs": [],
   "source": [
    "def accuracy(y_pred, y_actu):\n",
    "    y_actt = np.argmax(y_actu, axis=0)\n",
    "    return np.mean((y_pred == y_actt))"
   ]
  },
  {
   "cell_type": "code",
   "execution_count": 10,
   "metadata": {},
   "outputs": [
    {
     "data": {
      "text/plain": [
       "((784, 48000), (10, 48000))"
      ]
     },
     "execution_count": 10,
     "metadata": {},
     "output_type": "execute_result"
    }
   ],
   "source": [
    "prep_X, prep_Y = normalize(train_X, train_Y)\n",
    "prep_X.shape, prep_Y.shape  "
   ]
  },
  {
   "cell_type": "code",
   "execution_count": 43,
   "metadata": {},
   "outputs": [
    {
     "name": "stdout",
     "output_type": "stream",
     "text": [
      "0 0.25733076785954145 0.77275 0.77925\n",
      "50 0.08608007524499092 0.88575 0.8855\n",
      "100 0.07843571631692403 0.89675 0.8953333333333333\n",
      "150 0.07522226460522057 0.90225 0.8995833333333333\n",
      "200 0.07334546978546341 0.90625 0.90175\n",
      "250 0.07206978294475248 0.9085 0.9035833333333333\n",
      "300 0.0711228513830696 0.90975 0.9046666666666666\n",
      "350 0.07037836069916162 0.91 0.90575\n",
      "400 0.06976894755436211 0.9105 0.9070833333333334\n",
      "450 0.06925507411536021 0.9125 0.908\n",
      "500 0.06881184660422167 0.913 0.9088333333333334\n",
      "550 0.06842272319423628 0.913 0.9090833333333334\n",
      "600 0.06807623000777067 0.91425 0.91\n",
      "650 0.0677641242219723 0.9145 0.9109166666666667\n",
      "700 0.06748030810718839 0.9145 0.9113333333333333\n",
      "750 0.06722015717858582 0.91525 0.9118333333333334\n",
      "800 0.06698008842253689 0.9155 0.912\n",
      "850 0.06675727365828152 0.91525 0.9118333333333334\n",
      "900 0.06654944383286493 0.915 0.9119166666666667\n",
      "950 0.06635475207992989 0.91475 0.912\n"
     ]
    }
   ],
   "source": [
    "W = np.zeros((784, 10))\n",
    "b = np.zeros((10, 1))\n",
    "mini_batch = 4000\n",
    "for i in range(1001):\n",
    "    for end in range(mini_batch, 48001, mini_batch):\n",
    "        start = end - mini_batch\n",
    "        prep_X, prep_Y = normalize(train_X[:, start:end], train_Y[:, start:end])   \n",
    "        pred_Y = forward(W, b, prep_X)\n",
    "        cost, W, b = backward_gd(pred_Y, prep_Y, W, b, prep_X)\n",
    "    if i % 50 == 0:\n",
    "        tr_X, tr_Y = prep_X, prep_Y\n",
    "        vl_X, vl_Y = normalize(valid_X, valid_Y)\n",
    "        tr_P = forward(W, b, tr_X, eval=True)\n",
    "        vl_P = forward(W, b, vl_X, eval=True)\n",
    "\n",
    "        print(i, cost, accuracy(tr_P, tr_Y), accuracy(vl_P, vl_Y))"
   ]
  },
  {
   "cell_type": "code",
   "execution_count": null,
   "metadata": {},
   "outputs": [],
   "source": [
    "W = np.zeros((784, 10))\n",
    "b = np.zeros((10, 1))\n",
    "for i in range(1000):\n",
    "    prep_X, prep_Y = normalize(train_X, train_Y)   \n",
    "    pred_Y = forward(W, b, prep_X)\n",
    "    cost, W, b = backward_gd(pred_Y, prep_Y, W, b, prep_X)\n",
    "    if i % 50 == 0:\n",
    "        tr_X, tr_Y = prep_X, prep_Y\n",
    "        vl_X, vl_Y = normalize(valid_X, valid_Y)\n",
    "        tr_P = forward(W, b, tr_X, eval=True)\n",
    "        vl_P = forward(W, b, vl_X, eval=True)\n",
    "\n",
    "        print(i, cost, accuracy(tr_P, tr_Y), accuracy(vl_P, vl_Y))"
   ]
  },
  {
   "cell_type": "code",
   "execution_count": 44,
   "metadata": {},
   "outputs": [
    {
     "data": {
      "text/plain": [
       "0.9119166666666667"
      ]
     },
     "execution_count": 44,
     "metadata": {},
     "output_type": "execute_result"
    }
   ],
   "source": [
    "val_prep_X, val_prep_Y = normalize(valid_X, valid_Y)\n",
    "valid_preds = forward(W, b, val_prep_X, eval=True)\n",
    "accuracy(valid_preds, val_prep_Y)"
   ]
  },
  {
   "cell_type": "code",
   "execution_count": 45,
   "metadata": {},
   "outputs": [
    {
     "data": {
      "text/plain": [
       "0.917"
      ]
     },
     "execution_count": 45,
     "metadata": {},
     "output_type": "execute_result"
    }
   ],
   "source": [
    "test_prep_X, test_prep_Y = normalize(test_X, test_Y)\n",
    "test_preds = forward(W, b, test_prep_X, eval=True)\n",
    "accuracy(test_preds, test_prep_Y)"
   ]
  }
 ],
 "metadata": {
  "kernelspec": {
   "display_name": "Python 3",
   "language": "python",
   "name": "python3"
  },
  "language_info": {
   "codemirror_mode": {
    "name": "ipython",
    "version": 3
   },
   "file_extension": ".py",
   "mimetype": "text/x-python",
   "name": "python",
   "nbconvert_exporter": "python",
   "pygments_lexer": "ipython3",
   "version": "3.8.10"
  },
  "orig_nbformat": 4,
  "vscode": {
   "interpreter": {
    "hash": "4bce99a05a442baef0198635a136dd704752c6c8c0ad571d36fcdeb972def08c"
   }
  }
 },
 "nbformat": 4,
 "nbformat_minor": 2
}
